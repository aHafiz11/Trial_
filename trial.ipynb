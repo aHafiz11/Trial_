{
 "cells": [
  {
   "cell_type": "code",
   "execution_count": null,
   "id": "9f774b91",
   "metadata": {},
   "outputs": [],
   "source": [
    "# testing"
   ]
  },
  {
   "cell_type": "code",
   "execution_count": null,
   "id": "b6a051e9",
   "metadata": {},
   "outputs": [],
   "source": [
    "import numpy as np\n",
    "from scipy.integrate import simps\n",
    "\n",
    "def aod_to_pdf(aod, wavelengths, refractive_index, height, verbose=False):\n",
    "    \"\"\"\n",
    "    Estimates the aerosol probability density function (PDF) from aerosol optical depth (AOD) data using the LEASD algorithm.\n",
    "\n",
    "    Parameters:\n",
    "    -----------\n",
    "    aod: array-like\n",
    "        The AOD measurement(s) at the specified wavelengths.\n",
    "    wavelengths: array-like\n",
    "        The wavelengths at which the AOD is measured in nanometers.\n",
    "    refractive_index: complex float\n",
    "        The complex refractive index of the aerosol.\n",
    "    height: float\n",
    "        The height of the aerosol layer in kilometers.\n",
    "    verbose: bool, optional\n",
    "        Whether to print intermediate results during the inversion process.\n",
    "\n",
    "    Returns:\n",
    "    --------\n",
    "    bin_centers: array-like\n",
    "        The center values of each bin in the PDF.\n",
    "    pdf: array-like\n",
    "        The estimated PDF values for each bin.\n",
    "    \"\"\"\n",
    "\n",
    "    # Convert wavelengths to micrometers\n",
    "    wavelengths_um = wavelengths / 1000.0\n",
    "\n",
    "    # Convert AOD to extinction coefficient\n",
    "    k = 3.34e-4 * aod / np.power(wavelengths_um, 4)\n",
    "\n",
    "    # Define the bin edges for the PDF\n",
    "    bin_edges = np.logspace(np.log10(10), np.log10(1000), num=25, base=10)\n",
    "    bin_centers = 0.5 * (bin_edges[1:] + bin_edges[:-1])\n",
    "\n",
    "    # Define the initial guess for the size distribution\n",
    "    n = np.ones_like(bin_centers)\n",
    "\n",
    "    # Define the forward model for the extinction coefficient\n",
    "    def k_model(d, n):\n",
    "        return 4 * np.pi * np.imag(refractive_index) * d * n\n",
    "\n",
    "    # Iterate to find the size distribution that best fits the AOD measurement\n",
    "    for i in range(10):\n",
    "        # Calculate the extinction coefficient for the current size distribution\n",
    "        k_calc = k_model(bin_centers, n)\n",
    "\n",
    "        # Calculate the weight matrix for the inversion\n",
    "        w = np.diag(1.0 / np.power(k_calc, 2))\n",
    "\n",
    "        # Calculate the jacobian matrix for the inversion\n",
    "        j = np.zeros((len(wavelengths), len(n)))\n",
    "        for j_wl, wl in enumerate(wavelengths_um):\n",
    "            j[j_wl, :] = 4 * np.pi * np.imag(refractive_index) * wl * n\n",
    "\n",
    "        # Calculate the misfit between the calculated and observed AOD\n",
    "        misfit = k_calc - k\n",
    "\n",
    "        # Calculate the update to the size distribution using the LEASD algorithm\n",
    "        delta_n = np.linalg.lstsq(w @ j, w @ misfit, rcond=None)[0]\n",
    "\n",
    "        # Update the size distribution\n",
    "        n += delta_n\n",
    "\n",
    "        # Print intermediate results if requested\n",
    "        if verbose:\n",
    "            print(f\"Iteration {i+1}: RMS error = {np.sqrt(simps(np.power(misfit, 2), wavelengths_um))}\")\n",
    "\n",
    "    # Calculate the PDF from the final size distribution\n",
    "    pdf = n / np.diff(bin_edges)\n",
    "\n",
    "    return bin_centers, pdf\n"
   ]
  }
 ],
 "metadata": {
  "kernelspec": {
   "display_name": "atlas_box",
   "language": "python",
   "name": "python3"
  },
  "language_info": {
   "codemirror_mode": {
    "name": "ipython",
    "version": 3
   },
   "file_extension": ".py",
   "mimetype": "text/x-python",
   "name": "python",
   "nbconvert_exporter": "python",
   "pygments_lexer": "ipython3",
   "version": "3.9.15"
  },
  "vscode": {
   "interpreter": {
    "hash": "000664c7acf235ffb0deb9db1010673f9c9840725de6bfd2562f4787450dd9a7"
   }
  }
 },
 "nbformat": 4,
 "nbformat_minor": 5
}
